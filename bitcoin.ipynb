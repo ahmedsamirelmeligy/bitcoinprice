{
 "cells": [
  {
   "cell_type": "code",
   "execution_count": null,
   "metadata": {},
   "outputs": [],
   "source": [
    "# tracking the price of bitcoin\n",
    "import requests\n",
    "from bs4 import BeautifulSoup\n",
    "from datetime import datetime\n",
    "import time\n",
    "n = 0\n",
    "while True:\n",
    "    #opening the website on python\n",
    "    url = 'https://coinmarketcap.com/currencies/bitcoin/'\n",
    "    response = requests.request('GET', url)\n",
    "\n",
    "    \n",
    "    #making python understand HTML \n",
    "    soup = BeautifulSoup(response.text, 'html.parser')\n",
    "    \n",
    "    \n",
    "    #accessing the container of the price value\n",
    "    data = soup.find_all('div', attrs = {'class':'sc-16r8icm-0 kXPxnI priceTitle___1cXUG'})\n",
    "\n",
    "    \n",
    "    #getting the price\n",
    "    data_1 = data[0].find('div').text\n",
    "\n",
    "    y = data_1.split()\n",
    "\n",
    "    price = y[0]\n",
    "    \n",
    "    #making a text file to save the price data in\n",
    "    f = open('price.txt','a')\n",
    "    now = datetime.now()\n",
    "    time_now = now.strftime('%d - %m - %Y || %H : %M :%S')\n",
    "    output = 'price of bitcoin is '+price+ ' at ' + time_now + '\\n\\n'\n",
    "    f.write(output)\n",
    "    f.close()\n",
    "    time.sleep(5) \n",
    "    if n == 5760:\n",
    "        break\n",
    "    else: \n",
    "        n+=1"
   ]
  },
  {
   "cell_type": "code",
   "execution_count": null,
   "metadata": {},
   "outputs": [],
   "source": []
  }
 ],
 "metadata": {
  "kernelspec": {
   "display_name": "Python 3",
   "language": "python",
   "name": "python3"
  },
  "language_info": {
   "codemirror_mode": {
    "name": "ipython",
    "version": 3
   },
   "file_extension": ".py",
   "mimetype": "text/x-python",
   "name": "python",
   "nbconvert_exporter": "python",
   "pygments_lexer": "ipython3",
   "version": "3.8.3"
  }
 },
 "nbformat": 4,
 "nbformat_minor": 4
}
